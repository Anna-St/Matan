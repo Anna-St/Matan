{
 "cells": [
  {
   "cell_type": "code",
   "execution_count": 1,
   "metadata": {},
   "outputs": [],
   "source": [
    "from sympy import *\n",
    "x,y,z = symbols('x y z')\n",
    "init_printing(use_unicode=True)\n",
    "from sympy.solvers import solve"
   ]
  },
  {
   "cell_type": "code",
   "execution_count": 2,
   "metadata": {},
   "outputs": [
    {
     "data": {
      "image/png": "[encoded data removed]",
      "text/latex": [
       "$$\\frac{2 x^{3}}{3} - x^{2} + x \\log{\\left (x \\right )} - 2 x + e^{x} - \\sin{\\left (x \\right )} - \\cos{\\left (x \\right )}$$"
      ],
      "text/plain": [
       "   3                                             \n",
       "2⋅x     2                     x                  \n",
       "──── - x  + x⋅log(x) - 2⋅x + ℯ  - sin(x) - cos(x)\n",
       " 3                                               "
      ]
     },
     "execution_count": 2,
     "metadata": {},
     "output_type": "execute_result"
    }
   ],
   "source": [
    "integrate(2*(x**2)-2*x-1+sin(x)-cos(x)+log(x)+ E**x,x)"
   ]
  },
  {
   "cell_type": "code",
   "execution_count": 3,
   "metadata": {},
   "outputs": [
    {
     "data": {
      "image/png": "[encoded data removed]",
      "text/latex": [
       "$$- \\frac{5 x^{3} y}{3} + x^{2} \\left(3 z^{2} + 1\\right) - 3 x \\log{\\left (z \\right )}$$"
      ],
      "text/plain": [
       "     3                               \n",
       "  5⋅x ⋅y    2 ⎛   2    ⎞             \n",
       "- ────── + x ⋅⎝3⋅z  + 1⎠ - 3⋅x⋅log(z)\n",
       "    3                                "
      ]
     },
     "execution_count": 3,
     "metadata": {},
     "output_type": "execute_result"
    }
   ],
   "source": [
    "integrate(2*x + 6*x*(z**2)-5*(x**2)*y-3*log(z),x)"
   ]
  },
  {
   "cell_type": "code",
   "execution_count": 4,
   "metadata": {},
   "outputs": [
    {
     "data": {
      "image/png": "[encoded data removed]",
      "text/latex": [
       "$$- \\frac{3 x^{2} \\cos{\\left (2 x \\right )}}{2} + \\frac{3 x \\sin{\\left (2 x \\right )}}{2} + \\frac{3 \\cos{\\left (2 x \\right )}}{4}$$"
      ],
      "text/plain": [
       "     2                                     \n",
       "  3⋅x ⋅cos(2⋅x)   3⋅x⋅sin(2⋅x)   3⋅cos(2⋅x)\n",
       "- ───────────── + ──────────── + ──────────\n",
       "        2              2             4     "
      ]
     },
     "execution_count": 4,
     "metadata": {},
     "output_type": "execute_result"
    }
   ],
   "source": [
    "integrate(3*(x**2)*sin(2*x))"
   ]
  },
  {
   "cell_type": "code",
   "execution_count": 5,
   "metadata": {},
   "outputs": [
    {
     "data": {
      "image/png": "[encoded data removed]",
      "text/latex": [
       "$$- \\frac{3 \\pi^{2}}{2}$$"
      ],
      "text/plain": [
       "    2 \n",
       "-3⋅π  \n",
       "──────\n",
       "  2   "
      ]
     },
     "execution_count": 5,
     "metadata": {},
     "output_type": "execute_result"
    }
   ],
   "source": [
    "integrate(3*(x**2)*sin(2*x),(x,0,pi))"
   ]
  },
  {
   "cell_type": "code",
   "execution_count": 6,
   "metadata": {},
   "outputs": [
    {
     "data": {
      "image/png": "[encoded data removed]",
      "text/latex": [
       "$$2 \\sqrt{x + 1}$$"
      ],
      "text/plain": [
       "    _______\n",
       "2⋅╲╱ x + 1 "
      ]
     },
     "execution_count": 6,
     "metadata": {},
     "output_type": "execute_result"
    }
   ],
   "source": [
    "integrate(1/sqrt(x+1),x)"
   ]
  }
 ],
 "metadata": {
  "kernelspec": {
   "display_name": "Python 3",
   "language": "python",
   "name": "python3"
  },
  "language_info": {
   "codemirror_mode": {
    "name": "ipython",
    "version": 3
   },
   "file_extension": ".py",
   "mimetype": "text/x-python",
   "name": "python",
   "nbconvert_exporter": "python",
   "pygments_lexer": "ipython3",
   "version": "3.7.1"
  }
 },
 "nbformat": 4,
 "nbformat_minor": 2
}
